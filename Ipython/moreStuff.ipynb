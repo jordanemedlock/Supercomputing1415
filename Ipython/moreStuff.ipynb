{
 "metadata": {
  "name": "",
  "signature": "sha256:b2db5d69d31aca59f397a7f2e073749bc3d238deac33712738429216a5b299c0"
 },
 "nbformat": 3,
 "nbformat_minor": 0,
 "worksheets": [
  {
   "cells": [
    {
     "cell_type": "heading",
     "level": 1,
     "metadata": {},
     "source": [
      "Digital Aristotle"
     ]
    },
    {
     "cell_type": "heading",
     "level": 6,
     "metadata": {},
     "source": [
      "Modules"
     ]
    },
    {
     "cell_type": "code",
     "collapsed": false,
     "input": [
      "%matplotlib inline"
     ],
     "language": "python",
     "metadata": {},
     "outputs": [],
     "prompt_number": 1
    },
    {
     "cell_type": "code",
     "collapsed": false,
     "input": [
      "import json\n",
      "from matplotlib.pylab import *\n",
      "import numpy as np\n",
      "from numpy import *\n",
      "import matplotlib.pyplot as plt\n",
      "import matplotlib.cm as cm\n",
      "import matplotlib.colors as colors\n",
      "import random\n",
      "import time\n",
      "from IPython import display\n",
      "from itertools import chain\n",
      "import nltk\n",
      "from IPython.display import HTML, Image, display\n",
      "import os.path"
     ],
     "language": "python",
     "metadata": {},
     "outputs": [],
     "prompt_number": 2
    },
    {
     "cell_type": "markdown",
     "metadata": {},
     "source": [
      "###### Data Components"
     ]
    },
    {
     "cell_type": "code",
     "collapsed": false,
     "input": [
      "class Serializable(object):\n",
      "    @classmethod\n",
      "    def fromJsonFile(cls,fname):\n",
      "        f = open(\"Math6\")\n",
      "        document = json.loads(f.read().encode('utf8'))\n",
      "        return cls.fromJsonObj(document)\n",
      "\n",
      "    @classmethod\n",
      "    def fromJsonObj(cls,obj):\n",
      "        pass\n",
      "    \n",
      "    def toJSONObj(self):\n",
      "        pass\n",
      "    \n",
      "    def __str__(self):\n",
      "        return (json.dumps(self.toJSONObj(), indent=2))\n",
      "\n",
      "class Book(Serializable):\n",
      "    #                 str  [Chapter] str         str\n",
      "    def __init__(self,name,chapters,publish_date,isbn):\n",
      "        self.name = name\n",
      "        self.chapters = chapters\n",
      "        self.publish_date = publish_date\n",
      "        self.isbn = isbn\n",
      "\n",
      "    @classmethod\n",
      "    def fromJsonObj(cls,dictionary):\n",
      "        return cls(dictionary['name'],[Chapter.fromJsonObj(obj) for obj in dictionary['chapters']],dictionary['publish_date'],dictionary['isbn'])\n",
      "\n",
      "    def toJSONObj(self):\n",
      "        return {'name' : self.name, 'chapters' : [obj.toJSONObj() for obj in self.chapters], 'publish_date': self.publish_date, 'isbn': self.isbn}\n",
      "    \n",
      "class Chapter(Serializable):\n",
      "    #                 str  [Sub_Chapter] [Subject] \n",
      "    def __init__(self,name,subchapters,subjects,pages):\n",
      "        self.name = name\n",
      "        self.subchapters = subchapters\n",
      "        self.subjects = subjects\n",
      "        self.pages = set(pages)\n",
      "\n",
      "    def toJSONObj(self):\n",
      "        return {'name' : self.name, 'subchapters' : [x.toJSONObj() for x in self.subchapters], 'subjects': self.subjects, 'pages':list(self.pages)}\n",
      "    \n",
      "    \n",
      "    \n",
      "    @classmethod\n",
      "    def fromJsonObj(cls,dictionary):\n",
      "        return cls(dictionary['name'],[SubChapter.fromJsonObj(obj) for obj in dictionary['subchapters']],dictionary['subjects'],dictionary['pages'])\n",
      "\n",
      "class SubChapter(Serializable):\n",
      "    #                  str [Paragraph] [Subject]\n",
      "    def __init__(self,name,text,subjects, pages):\n",
      "        self.name = name\n",
      "        self.text = text\n",
      "        self.subjects = subjects\n",
      "        self.pages = set(pages)\n",
      "\n",
      "    @classmethod\n",
      "    def fromJsonObj(cls,dictionary):\n",
      "        return cls(dictionary['name'],dictionary['text'],dictionary['subjects'],dictionary['pages'])\n",
      "\n",
      "    def toJSONObj(self):\n",
      "        return {'name' : self.name, 'text' : self.text, 'subjects': self.subjects, 'page': list(self.pages)}\n",
      "    \n",
      "   \n",
      "class Subject(object):\n",
      "    def __init__(self,text):\n",
      "        self.text = text\n",
      "\n",
      "    @classmethod\n",
      "    def fromJsonObj(cls,dictionary):\n",
      "        return cls(dictionary['text'])\n"
     ],
     "language": "python",
     "metadata": {},
     "outputs": [],
     "prompt_number": 3
    },
    {
     "cell_type": "heading",
     "level": 6,
     "metadata": {},
     "source": [
      "Data Creation"
     ]
    },
    {
     "cell_type": "code",
     "collapsed": false,
     "input": [
      "f = open(\"LinedMath.json\")\n",
      "book = Book('A First Book in Algebra',[],\"\",\"\")\n",
      "document = json.loads(f.read().encode('utf8'))\n",
      "chapter = None\n",
      "subchapter = None\n",
      "for (page_num, page) in enumerate(document):\n",
      "    page_num += 1\n",
      "    for line in page:\n",
      "        if line[u'font'] == 5: # chapter\n",
      "            chapter = Chapter(line[u'data'], [], [line[u'data']], [page_num])\n",
      "            book.chapters.append(chapter)\n",
      "            subchapter = None\n",
      "\n",
      "        elif line[u'font'] == 3: # Subchapter\n",
      "            subchapter = SubChapter(line[u'data'], '', [line[u'data']], [page_num])\n",
      "            if chapter is None:\n",
      "                chapter = Chapter('No Name Chapter', [], [], [page_num])\n",
      "            chapter.subchapters.append(subchapter)\n",
      "            chapter.subjects.append(line[u'data'])\n",
      "        \n",
      "        elif subchapter is not None:\n",
      "            subchapter.text += u'\\n' + line[u'data']\n",
      "            subchapter.pages.add(page_num)\n",
      "            chapter.pages.add(page_num)\n",
      "        \n",
      "        else:\n",
      "            subchapter = SubChapter(\"No Name\", line[u'data'], [], [page_num])\n",
      "            if chapter is None:\n",
      "                chapter = Chapter('No Name Chapter', [], [], [page_num])\n",
      "            chapter.subchapters.append(subchapter)\n",
      "\n",
      "fout = open(\"newMathOut.json\",'w')\n",
      "string = json.dumps(book.toJSONObj())\n",
      "fout.write(string)"
     ],
     "language": "python",
     "metadata": {},
     "outputs": [
      {
       "ename": "IOError",
       "evalue": "[Errno 2] No such file or directory: 'LinedMath.json'",
       "output_type": "pyerr",
       "traceback": [
        "\u001b[1;31m---------------------------------------------------------------------------\u001b[0m\n\u001b[1;31mIOError\u001b[0m                                   Traceback (most recent call last)",
        "\u001b[1;32m<ipython-input-4-2af3d14ad296>\u001b[0m in \u001b[0;36m<module>\u001b[1;34m()\u001b[0m\n\u001b[1;32m----> 1\u001b[1;33m \u001b[0mf\u001b[0m \u001b[1;33m=\u001b[0m \u001b[0mopen\u001b[0m\u001b[1;33m(\u001b[0m\u001b[1;34m\"LinedMath.json\"\u001b[0m\u001b[1;33m)\u001b[0m\u001b[1;33m\u001b[0m\u001b[0m\n\u001b[0m\u001b[0;32m      2\u001b[0m \u001b[0mbook\u001b[0m \u001b[1;33m=\u001b[0m \u001b[0mBook\u001b[0m\u001b[1;33m(\u001b[0m\u001b[1;34m'A First Book in Algebra'\u001b[0m\u001b[1;33m,\u001b[0m\u001b[1;33m[\u001b[0m\u001b[1;33m]\u001b[0m\u001b[1;33m,\u001b[0m\u001b[1;34m\"\"\u001b[0m\u001b[1;33m,\u001b[0m\u001b[1;34m\"\"\u001b[0m\u001b[1;33m)\u001b[0m\u001b[1;33m\u001b[0m\u001b[0m\n\u001b[0;32m      3\u001b[0m \u001b[0mdocument\u001b[0m \u001b[1;33m=\u001b[0m \u001b[0mjson\u001b[0m\u001b[1;33m.\u001b[0m\u001b[0mloads\u001b[0m\u001b[1;33m(\u001b[0m\u001b[0mf\u001b[0m\u001b[1;33m.\u001b[0m\u001b[0mread\u001b[0m\u001b[1;33m(\u001b[0m\u001b[1;33m)\u001b[0m\u001b[1;33m.\u001b[0m\u001b[0mencode\u001b[0m\u001b[1;33m(\u001b[0m\u001b[1;34m'utf8'\u001b[0m\u001b[1;33m)\u001b[0m\u001b[1;33m)\u001b[0m\u001b[1;33m\u001b[0m\u001b[0m\n\u001b[0;32m      4\u001b[0m \u001b[0mchapter\u001b[0m \u001b[1;33m=\u001b[0m \u001b[0mNone\u001b[0m\u001b[1;33m\u001b[0m\u001b[0m\n\u001b[0;32m      5\u001b[0m \u001b[0msubchapter\u001b[0m \u001b[1;33m=\u001b[0m \u001b[0mNone\u001b[0m\u001b[1;33m\u001b[0m\u001b[0m\n",
        "\u001b[1;31mIOError\u001b[0m: [Errno 2] No such file or directory: 'LinedMath.json'"
       ]
      }
     ],
     "prompt_number": 4
    },
    {
     "cell_type": "raw",
     "metadata": {},
     "source": [
      "f = open('newMathOut.json')\n",
      "book = Book.fromJsonObj(json.loads(f.read()))\n",
      "# print book\n",
      "for chapter in book.chapters:\n",
      "#     print chapter\n",
      "    print type(chapter.subchapters)"
     ]
    },
    {
     "cell_type": "heading",
     "level": 6,
     "metadata": {},
     "source": [
      "Search Data (Functions)"
     ]
    },
    {
     "cell_type": "code",
     "collapsed": false,
     "input": [
      "def levenshtein(source, target):\n",
      "    if len(source) < len(target):\n",
      "        return levenshtein(target, source)\n",
      " \n",
      "    if len(target) == 0:\n",
      "        return len(source)\n",
      "    source = np.array(tuple(source))\n",
      "    target = np.array(tuple(target))\n",
      " \n",
      "    previous_row = np.arange(target.size + 1)\n",
      "    for s in source:\n",
      "        # Insertion \n",
      "        current_row = previous_row + (0.1)\n",
      " \n",
      "        # Substitution or matching:\n",
      "        current_row[1:] = np.minimum(current_row[1:],np.add(previous_row[:-1], (target != s) * (3)))\n",
      " \n",
      "        # Deletion \n",
      "        current_row[1:] = np.minimum(\n",
      "                current_row[1:],\n",
      "                current_row[0:-1] + (1))\n",
      "        previous_row = current_row\n",
      " \n",
      "    return previous_row[-1]\n",
      "levenshtein = np.vectorize(levenshtein)"
     ],
     "language": "python",
     "metadata": {},
     "outputs": []
    },
    {
     "cell_type": "code",
     "collapsed": false,
     "input": [
      "def minimumChapter(xs):\n",
      "    smallest = float(\"inf\")\n",
      "    smallestChapter = None\n",
      "    for (value, chapter) in xs:\n",
      "        if value < smallest:\n",
      "            smallest = value\n",
      "            smallestChapter = chapter\n",
      "    return smallestChapter"
     ],
     "language": "python",
     "metadata": {},
     "outputs": [],
     "prompt_number": 5
    },
    {
     "cell_type": "code",
     "collapsed": false,
     "input": [
      "minimumChapter({\"12\":321})"
     ],
     "language": "python",
     "metadata": {},
     "outputs": [
      {
       "ename": "SyntaxError",
       "evalue": "invalid syntax (<ipython-input-9-3d5b4815b79f>, line 1)",
       "output_type": "pyerr",
       "traceback": [
        "\u001b[1;36m  File \u001b[1;32m\"<ipython-input-9-3d5b4815b79f>\"\u001b[1;36m, line \u001b[1;32m1\u001b[0m\n\u001b[1;33m    minimumChapter({\"12\",\"fdsa\",\"fdsa\",\"fd\":321})\u001b[0m\n\u001b[1;37m                                           ^\u001b[0m\n\u001b[1;31mSyntaxError\u001b[0m\u001b[1;31m:\u001b[0m invalid syntax\n"
       ]
      }
     ],
     "prompt_number": 9
    },
    {
     "cell_type": "code",
     "collapsed": false,
     "input": [
      "numberOfTimesRan = 0\n",
      "filtered_words_global = []\n",
      "def bestChapter(input_string, chapters):\n",
      "    def countWordsInSubChapter(subchapter):\n",
      "        global numberOfTimesRan, filtered_words_global\n",
      "        numberOfTimesRan += 1\n",
      "        accum = 0\n",
      "        text = subchapter.text\n",
      "        words = text.split()\n",
      "        filtered_words = [w.lower() for w in words if not w.lower() in stopWords and not isInt(w) and w.isalpha() and len(w) > 2]\n",
      "        accum -= len([w for w in filtered_words if w == input_string])\n",
      "        filtered_words_global += filtered_words\n",
      "        for word in filtered_words:\n",
      "            comp = levenshteinDistance(input_string,word)\n",
      "            accum += float(comp) / len(words)\n",
      "        return accum\n",
      "    \n",
      "    countWordsInSubChapter = memoize(countWordsInSubChapter)\n",
      "    \n",
      "    def chapterPlusIndex(chapter):\n",
      "        index = levenshteinDistance(input_string, chapter.name)\n",
      "        if type(chapter) is SubChapter:\n",
      "            index += countWordsInSubChapter(chapter)\n",
      "            print '\\t', chapter.name, index\n",
      "        elif type(chapter) is Chapter:\n",
      "            accum = 0\n",
      "            for subchapter in chapter.subchapters:\n",
      "                accum += countWordsInSubChapter(subchapter)\n",
      "            accum = accum/len(chapter.subchapters)\n",
      "            index += accum\n",
      "            print chapter.name, index\n",
      "            \n",
      "        return (float(index), chapter)\n",
      "    xs = map(chapterPlusIndex, chapters)\n",
      "#     print map(lambda x: (x[0], x[1].name), xs)\n",
      "    return minimumChapter(xs)"
     ],
     "language": "python",
     "metadata": {},
     "outputs": []
    },
    {
     "cell_type": "code",
     "collapsed": false,
     "input": [
      "def memoize(f):\n",
      "    memory = dict()\n",
      "    def memoizedFunction(x):\n",
      "        if x in memory:\n",
      "            return memory[x]\n",
      "        else:\n",
      "            memory[x] = f(x)\n",
      "            return memory[x]\n",
      "    return memoizedFunction\n"
     ],
     "language": "python",
     "metadata": {},
     "outputs": []
    },
    {
     "cell_type": "code",
     "collapsed": false,
     "input": [
      "def getChapter(input_string):\n",
      "    return bestChapter(input_string, list(chain(*[c.subchapters for c in book.chapters])) + book.chapters)"
     ],
     "language": "python",
     "metadata": {},
     "outputs": []
    },
    {
     "cell_type": "code",
     "collapsed": false,
     "input": [
      "def levenshteinDistance(str1,str2):\n",
      "    str1, str2 = unicode(str1), unicode(str2)\n",
      "    return levenshtein(str1.lower().rstrip('.'),str2.lower().rstrip('.'))"
     ],
     "language": "python",
     "metadata": {},
     "outputs": []
    },
    {
     "cell_type": "code",
     "collapsed": false,
     "input": [
      "def isInt(string):\n",
      "    string = [x for x in string if x in '0123456789']\n",
      "    return len(string) > 0"
     ],
     "language": "python",
     "metadata": {},
     "outputs": []
    },
    {
     "cell_type": "heading",
     "level": 6,
     "metadata": {},
     "source": [
      "Search Data"
     ]
    },
    {
     "cell_type": "code",
     "collapsed": false,
     "input": [
      "stopwords = \"\"\"\n",
      "a about above after again agains all am an and any are aren't as at be because been before being below between both but by can't cannot \n",
      "could couldn't did didn't do does doesn't doing don't down during each few for from further had hadn't has hasn't have haven't having he \n",
      "he'd he'll he's her here here's hers herself him himself his how how's i i'd i'll i'm i've if in into is isn't it it's its itself let's me\n",
      "more most mustn't my myself no nor not of off on once only or other ought our ours ourselves out over own same shan't she she'd she'll \n",
      "she's should shouldn't so some such than that that's the their theirs them themselves then there there's these they they'd they'll they're\n",
      "they've this those through to too under until up very was wasn't we we'd we'll we're we've were weren't what what's when when's where \n",
      "where's which while who who's whom why why's with won't would wouldn't you you'd you'll you're you've your yours yourself yourselves first\n",
      "second twice third fourth - + one two three four five six seven eight nine ten john many times much will can miles years cent men hours \n",
      "exercise man must \n",
      "\"\"\"\n",
      "stopWords = stopwords.split()\n"
     ],
     "language": "python",
     "metadata": {},
     "outputs": []
    },
    {
     "cell_type": "code",
     "collapsed": false,
     "input": [
      "input_string = u'subtracting'\n",
      "filtered_words_global = []\n",
      "chapter = getChapter(input_string)\n",
      "print \"\\n\",chapter.name\n",
      "print \"Page:\",chapter.pages,\"\\n\"\n",
      "# print  'Math6-%03d.png'%chapter.pages\n",
      "def displayPages(pages):\n",
      "    pages = sorted(list(pages))\n",
      "    for x in pages:\n",
      "        display(Image(filename=os.path.join('Math6', 'Math6-%03d.png'%(x))))\n",
      "\n",
      "    \n",
      "displayPages(chapter.pages)\n",
      "    \n",
      "# display(Image(filename=os.path.join('Math6', 'Math6-%03d.png'%chapter.page)))\n",
      "# display(Image(filename=os.path.join('Math6', 'Math6-%03d.png'%(chapter.page+1))))\n",
      "# display(Image(filename=os.path.join('Math6', 'Math6-%03d.png'%(chapter.page+2))))"
     ],
     "language": "python",
     "metadata": {},
     "outputs": []
    },
    {
     "cell_type": "code",
     "collapsed": false,
     "input": [
      "print numberOfTimesRan\n",
      "numberOfTimesRan = 0"
     ],
     "language": "python",
     "metadata": {},
     "outputs": []
    },
    {
     "cell_type": "code",
     "collapsed": false,
     "input": [
      "words = []\n",
      "for chapter in book.chapters:\n",
      "    for subchapter in chapter.subchapters:\n",
      "        splited = subchapter.text.split()\n",
      "        words += splited\n",
      "print words"
     ],
     "language": "python",
     "metadata": {},
     "outputs": []
    },
    {
     "cell_type": "code",
     "collapsed": false,
     "input": [
      "text = nltk.Text(list(chain(*map(nltk.word_tokenize,filtered_words_global))))"
     ],
     "language": "python",
     "metadata": {},
     "outputs": []
    },
    {
     "cell_type": "code",
     "collapsed": false,
     "input": [
      "# nltk.FreqDist(text).most_common(50) \n",
      "# len(text)\n",
      "text.count('fun')"
     ],
     "language": "python",
     "metadata": {},
     "outputs": []
    },
    {
     "cell_type": "heading",
     "level": 6,
     "metadata": {},
     "source": [
      "Test"
     ]
    },
    {
     "cell_type": "code",
     "collapsed": false,
     "input": [
      "book.chapters + list(chain(*[c.subchapters for c in book.chapters]))"
     ],
     "language": "python",
     "metadata": {},
     "outputs": []
    },
    {
     "cell_type": "code",
     "collapsed": false,
     "input": [
      "print levenshtein(\"ALGEBRAIC NOTATION.\".lower(), \"facor\".lower())"
     ],
     "language": "python",
     "metadata": {},
     "outputs": []
    },
    {
     "cell_type": "code",
     "collapsed": false,
     "input": [
      "stopWords"
     ],
     "language": "python",
     "metadata": {},
     "outputs": []
    },
    {
     "cell_type": "code",
     "collapsed": false,
     "input": [
      "unicode.isalpha(u'a')"
     ],
     "language": "python",
     "metadata": {},
     "outputs": []
    },
    {
     "cell_type": "code",
     "collapsed": false,
     "input": [
      "for (i,elem) in enumerate(stopWords):\n",
      "    print i, elem"
     ],
     "language": "python",
     "metadata": {},
     "outputs": []
    },
    {
     "cell_type": "code",
     "collapsed": false,
     "input": [
      "Image(filename='Math6\\Math6-059.png')"
     ],
     "language": "python",
     "metadata": {},
     "outputs": []
    },
    {
     "cell_type": "code",
     "collapsed": false,
     "input": [
      "a = set([1,1,1,1,2,2,2,3,3,3])\n",
      "a.add(3)\n",
      "a.add(3)\n",
      "a.add(3)\n",
      "a.add(3)\n"
     ],
     "language": "python",
     "metadata": {},
     "outputs": []
    },
    {
     "cell_type": "code",
     "collapsed": false,
     "input": [
      "a"
     ],
     "language": "python",
     "metadata": {},
     "outputs": []
    },
    {
     "cell_type": "code",
     "collapsed": false,
     "input": [
      "for x in a:\n",
      "    print x"
     ],
     "language": "python",
     "metadata": {},
     "outputs": []
    },
    {
     "cell_type": "code",
     "collapsed": false,
     "input": [],
     "language": "python",
     "metadata": {},
     "outputs": []
    }
   ],
   "metadata": {}
  }
 ]
}