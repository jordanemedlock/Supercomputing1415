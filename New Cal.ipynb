{
 "metadata": {
  "name": "",
  "signature": "sha256:5c2f75533265b43d7c8efb6c4e007267fcd8b3a0b063548cc0bb4c3c3b42e832"
 },
 "nbformat": 3,
 "nbformat_minor": 0,
 "worksheets": [
  {
   "cells": [
    {
     "cell_type": "heading",
     "level": 1,
     "metadata": {},
     "source": [
      "G-Cal"
     ]
    },
    {
     "cell_type": "code",
     "collapsed": false,
     "input": [
      "%matplotlib inline"
     ],
     "language": "python",
     "metadata": {},
     "outputs": [],
     "prompt_number": 20
    },
    {
     "cell_type": "code",
     "collapsed": false,
     "input": [
      "import math\n",
      "import matplotlib.pyplot as plt\n",
      "import numpy as np\n",
      "import pylab\n",
      "from IPython.display import display\n",
      "import fractions"
     ],
     "language": "python",
     "metadata": {},
     "outputs": [],
     "prompt_number": 21
    },
    {
     "cell_type": "heading",
     "level": 4,
     "metadata": {},
     "source": [
      "Factor"
     ]
    },
    {
     "cell_type": "code",
     "collapsed": false,
     "input": [
      "def factorFinder(x): # Finds all factors of a number\n",
      "    factors = []\n",
      "    singFactors = []\n",
      "    num = 1\n",
      "    while num <= x:\n",
      "        if x % num == 0:\n",
      "            factors.append((num,x/num))\n",
      "            singFactors.append(num)\n",
      "        num += 1\n",
      "    return factors, singFactors"
     ],
     "language": "python",
     "metadata": {},
     "outputs": [],
     "prompt_number": 22
    },
    {
     "cell_type": "heading",
     "level": 4,
     "metadata": {},
     "source": [
      "Square Root"
     ]
    },
    {
     "cell_type": "code",
     "collapsed": false,
     "input": [
      "def isPerfectSquare(x):\n",
      "    if math.sqrt(x) == int(math.sqrt(x)):\n",
      "        return True\n",
      "    return False"
     ],
     "language": "python",
     "metadata": {},
     "outputs": [],
     "prompt_number": 24
    },
    {
     "cell_type": "code",
     "collapsed": false,
     "input": [
      "def canFactorsReduce(x): \n",
      "    factors = factorFinder(x)[0]\n",
      "    for factor in factors:\n",
      "        if isPerfectSquare(factor[0]) and factor[0] != 1 and factor[0] != x: \n",
      "            return (factor[0], factor[1])\n",
      "    return (x,0)"
     ],
     "language": "python",
     "metadata": {},
     "outputs": [],
     "prompt_number": 25
    },
    {
     "cell_type": "code",
     "collapsed": false,
     "input": [
      "def reduceFurther(x): \n",
      "    reducible = canFactorsReduce(x) \n",
      "    fullyReduced = math.sqrt(reducible[0])\n",
      "    return (fullyReduced, reducible[1]) "
     ],
     "language": "python",
     "metadata": {},
     "outputs": [],
     "prompt_number": 26
    },
    {
     "cell_type": "code",
     "collapsed": false,
     "input": [
      "def findSquareRoot(x): # Returns square root in proper form\n",
      "    origNum = x\n",
      "    returnFac = factorFinder(x)[1]\n",
      "    if isPerfectSquare(x):\n",
      "        return \"Original Number: \"+str(origNum)+\"\\n\"+\"Factors: \"+str(returnFac)+\"\\n\"+\"Square Root: \"+str(int(math.sqrt(x))) \n",
      "    elif canFactorsReduce(x)[0] != x: \n",
      "        wholenums = []\n",
      "        while canFactorsReduce(x)[0] != x:\n",
      "            wholenums += [reduceFurther(x)[0]]\n",
      "            x = reduceFurther(x)[1]\n",
      "            squareRoot = x\n",
      "        \n",
      "        reducedWholeNums = reduce(lambda x, y : x*y, wholenums)\n",
      "        return \"Original Number: \"+str(origNum)+\"\\n\"+\"Factors: \"+str(returnFac)+\"\\n\"+\"Square Root: \"+str(int(reducedWholeNums))+\"*Sqrt(\"+str(squareRoot)+\")\"\n",
      "    else:\n",
      "        return \"Original Number: \"+str(origNum)+\"\\n\"+\"Factors: \"+str(returnFac)+\"\\n\"+\"Square Root: Sqrt(\"+str(origNum)+\")\""
     ],
     "language": "python",
     "metadata": {},
     "outputs": [],
     "prompt_number": 27
    },
    {
     "cell_type": "code",
     "collapsed": false,
     "input": [
      "print findSquareRoot(9332572)"
     ],
     "language": "python",
     "metadata": {},
     "outputs": [
      {
       "output_type": "stream",
       "stream": "stdout",
       "text": [
        "Original Number: 9332572\n",
        "Factors: [1, 2, 4, 19, 23, 38, 46, 76, 92, 281, 361, 437, 562, 722, 874, 1124, 1444, 1748, 5339, 6463, 8303, 10678, 12926, 16606, 21356, 25852, 33212, 101441, 122797, 202882, 245594, 405764, 491188, 2333143, 4666286, 9332572]\n",
        "Square Root: 38*Sqrt(6463)\n"
       ]
      }
     ],
     "prompt_number": 46
    },
    {
     "cell_type": "heading",
     "level": 4,
     "metadata": {},
     "source": [
      "Fractions"
     ]
    },
    {
     "cell_type": "code",
     "collapsed": false,
     "input": [
      "def reduceFraction(num,den):\n",
      "    endNum, endDen = 1,1\n",
      "    if num < 0:\n",
      "        num -= num*2\n",
      "        endNum = -1\n",
      "    if den < 0:\n",
      "        den -= den*2\n",
      "        endDen = -1\n",
      "        \n",
      "    while num != int(num) or den != int(den): # If numerator or denominator is a decimal\n",
      "        num *= 10\n",
      "        den *= 10\n",
      "        \n",
      "    largestComFac = float(\"-inf\")\n",
      "    numFacs, denFacs = factorFinder(num)[1],factorFinder(den)[1] \n",
      "    commonFacs = set(numFacs) & set(denFacs)\n",
      "    for factor in commonFacs: # Find the GCF\n",
      "        if factor > largestComFac:\n",
      "            largestComFac = factor\n",
      "    if largestComFac != 1: # Reduce fraction fully\n",
      "        num /= largestComFac\n",
      "        den /= largestComFac\n",
      "        return (int(endNum*num),int(endDen*den))\n",
      "    return (int(endNum*num),int(endDen*den))"
     ],
     "language": "python",
     "metadata": {},
     "outputs": [],
     "prompt_number": 29
    },
    {
     "cell_type": "code",
     "collapsed": false,
     "input": [
      "print reduceFraction(63,18)"
     ],
     "language": "python",
     "metadata": {},
     "outputs": [
      {
       "output_type": "stream",
       "stream": "stdout",
       "text": [
        "(7, 2)\n"
       ]
      }
     ],
     "prompt_number": 49
    },
    {
     "cell_type": "heading",
     "level": 4,
     "metadata": {},
     "source": [
      "Linear Equations"
     ]
    },
    {
     "cell_type": "code",
     "collapsed": false,
     "input": [
      "# y = mx+b\n",
      "# y - y1 = m(x-x1)"
     ],
     "language": "python",
     "metadata": {},
     "outputs": [],
     "prompt_number": 30
    },
    {
     "cell_type": "code",
     "collapsed": false,
     "input": [
      "def slope(p1,p2): \n",
      "    x,y = 0,1\n",
      "    num,den = float(p2[y]-p1[y]), float(p2[x]-p1[x])\n",
      "    if p2[x] == p1[x]:\n",
      "        return None\n",
      "    elif(num != 0):\n",
      "        return num/den, (reduceFraction(num,den)) \n",
      "    else:\n",
      "        return 0,0"
     ],
     "language": "python",
     "metadata": {},
     "outputs": [],
     "prompt_number": 31
    },
    {
     "cell_type": "code",
     "collapsed": false,
     "input": [
      "print slope((50,2),(1,2))"
     ],
     "language": "python",
     "metadata": {},
     "outputs": [
      {
       "output_type": "stream",
       "stream": "stdout",
       "text": [
        "(0, 0)\n"
       ]
      }
     ],
     "prompt_number": 32
    },
    {
     "cell_type": "code",
     "collapsed": false,
     "input": [
      "def linearEquation(p1,p2):\n",
      "    x,y = 0,1\n",
      "    ux,uy = p1[x],p1[y]\n",
      "    pretSlope = slope(p1,p2)[1]\n",
      "    m = slope(p1,p2)[0]\n",
      "    if uy < 0:\n",
      "        uy -= uy*2\n",
      "    b = m*(-1*ux)+uy\n",
      "    if m == 0:\n",
      "        return \"y = \"+str(b),[0,b] \n",
      "    \n",
      "    return \"y = \"+str(pretSlope[0])+\"/\"+str(pretSlope[1])+\"*x\"+\" + \"+str(b),[m,b]"
     ],
     "language": "python",
     "metadata": {},
     "outputs": [],
     "prompt_number": 33
    },
    {
     "cell_type": "code",
     "collapsed": false,
     "input": [
      "def linEquWithGraphs(p1,p2):    \n",
      "    eqn = linearEquation(p1,p2)    \n",
      "    x = np.linspace(-10,10,50)\n",
      "    y = eqn[1][0]*x+eqn[1][1]\n",
      "    pylab.clf()\n",
      "\n",
      "    pylab.grid(True)\n",
      "    pylab.title(\"From -10 to 10\")\n",
      "    pylab.ylabel(eqn[0])\n",
      "    x = np.linspace(-10,10,50)\n",
      "    pylab.plot(x,y,'blue');\n",
      "\n",
      "    pylab.show()\n",
      "\n",
      "    pylab.grid(True)\n",
      "    pylab.title(\"From -100 to 100\")\n",
      "    pylab.ylabel(eqn[0])\n",
      "    x = np.linspace(-100,100,50)\n",
      "    pylab.plot(x,y,'red');\n",
      "\n",
      "    pylab.show()\n",
      "\n",
      "    pylab.grid(True)\n",
      "    pylab.title(\"From -600 to 600\")\n",
      "    pylab.ylabel(eqn[0])\n",
      "    x = np.linspace(-600,600,50)\n",
      "    pylab.plot(x,y,'green');"
     ],
     "language": "python",
     "metadata": {},
     "outputs": [],
     "prompt_number": 34
    },
    {
     "cell_type": "code",
     "collapsed": false,
     "input": [
      "linEquWithGraphs((-4,769),(-2,769))"
     ],
     "language": "python",
     "metadata": {},
     "outputs": [
      {
       "metadata": {},
       "output_type": "display_data",
       "png": "[encoded data removed]",
       "text": [
        "<matplotlib.figure.Figure at 0x93c33c8>"
       ]
      },
      {
       "metadata": {},
       "output_type": "display_data",
       "png": "[encoded data removed]",
       "text": [
        "<matplotlib.figure.Figure at 0x93b1ba8>"
       ]
      },
      {
       "metadata": {},
       "output_type": "display_data",
       "png": "[encoded data removed]",
       "text": [
        "<matplotlib.figure.Figure at 0x9498dd8>"
       ]
      }
     ],
     "prompt_number": 35
    },
    {
     "cell_type": "heading",
     "level": 4,
     "metadata": {},
     "source": [
      "Quadratic Equations"
     ]
    },
    {
     "cell_type": "code",
     "collapsed": false,
     "input": [
      "# f(x) = ax^2 + bx + c\n",
      "# x = (-b + sqrt(b^2 - 4ac))/2a\n",
      "# x = (-b - sqrt(b^2 - 4ac))/2a"
     ],
     "language": "python",
     "metadata": {},
     "outputs": [],
     "prompt_number": 36
    },
    {
     "cell_type": "code",
     "collapsed": false,
     "input": [
      "def solveQuadEqn(a,b,c,includeImag=True):\n",
      "    dis = b**2-4*(a)*(c)\n",
      "    print findSquareRoot(dis)\n",
      "    return dis"
     ],
     "language": "python",
     "metadata": {},
     "outputs": [],
     "prompt_number": 37
    },
    {
     "cell_type": "code",
     "collapsed": false,
     "input": [
      "solveQuadEqn(1,14,7)"
     ],
     "language": "python",
     "metadata": {},
     "outputs": [
      {
       "output_type": "stream",
       "stream": "stdout",
       "text": [
        "Original Number: 168\n",
        "Factors: [1, 2, 3, 4, 6, 7, 8, 12, 14, 21, 24, 28, 42, 56, 84, 168]\n",
        "Square Root: 2*Sqrt(42)\n"
       ]
      },
      {
       "latex": [
        "$$168$$"
       ],
       "metadata": {},
       "output_type": "pyout",
       "png": "[encoded data removed]",
       "prompt_number": 38,
       "text": [
        "168"
       ]
      }
     ],
     "prompt_number": 38
    },
    {
     "cell_type": "code",
     "collapsed": false,
     "input": [],
     "language": "python",
     "metadata": {},
     "outputs": [],
     "prompt_number": 38
    }
   ],
   "metadata": {}
  }
 ]
}