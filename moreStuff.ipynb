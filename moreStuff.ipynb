{
 "metadata": {
  "name": "",
  "signature": "sha256:dc2e1fd5a5148d46d06d5348dfdb3dc254cc9918c31a78478a0a72efbb5ac770"
 },
 "nbformat": 3,
 "nbformat_minor": 0,
 "worksheets": [
  {
   "cells": [
    {
     "cell_type": "heading",
     "level": 1,
     "metadata": {},
     "source": [
      "Digital Aristotle"
     ]
    },
    {
     "cell_type": "heading",
     "level": 6,
     "metadata": {},
     "source": [
      "Modules"
     ]
    },
    {
     "cell_type": "code",
     "collapsed": false,
     "input": [
      "%matplotlib inline"
     ],
     "language": "python",
     "metadata": {},
     "outputs": [],
     "prompt_number": 263
    },
    {
     "cell_type": "code",
     "collapsed": false,
     "input": [
      "# %load deserialize.py\n",
      "import json\n",
      "from matplotlib.pylab import *\n",
      "import numpy as np\n",
      "from numpy import *\n",
      "import matplotlib.pyplot as plt\n",
      "import matplotlib.cm as cm\n",
      "import matplotlib.colors as colors\n",
      "import random\n",
      "import time\n",
      "from IPython import display\n",
      "from itertools import chain\n",
      "import nltk\n",
      "from IPython.display import HTML\n"
     ],
     "language": "python",
     "metadata": {},
     "outputs": [],
     "prompt_number": 264
    },
    {
     "cell_type": "markdown",
     "metadata": {},
     "source": [
      "###### Data Components"
     ]
    },
    {
     "cell_type": "code",
     "collapsed": false,
     "input": [
      "class Serializable(object):\n",
      "    @classmethod\n",
      "    def fromJsonFile(cls,fname):\n",
      "        f = open(\"Math6\")\n",
      "        document = json.loads(f.read().encode('utf8'))\n",
      "        return cls.fromJsonObj(document)\n",
      "\n",
      "    @classmethod\n",
      "    def fromJsonObj(cls,obj):\n",
      "        pass\n",
      "    \n",
      "    def toJSONObj(self):\n",
      "        pass\n",
      "    \n",
      "    def __str__(self):\n",
      "        return (json.dumps(self.toJSONObj(), indent=2))\n",
      "\n",
      "class Book(Serializable):\n",
      "    #                 str  [Chapter] str         str\n",
      "    def __init__(self,name,chapters,publish_date,isbn):\n",
      "        self.name = name\n",
      "        self.chapters = chapters\n",
      "        self.publish_date = publish_date\n",
      "        self.isbn = isbn\n",
      "\n",
      "    @classmethod\n",
      "    def fromJsonObj(cls,dictionary):\n",
      "        return cls(dictionary['name'],[Chapter.fromJsonObj(obj) for obj in dictionary['chapters']],dictionary['publish_date'],dictionary['isbn'])\n",
      "\n",
      "    def toJSONObj(self):\n",
      "        return {'name' : self.name, 'chapters' : [obj.toJSONObj() for obj in self.chapters], 'publish_date': self.publish_date, 'isbn': self.isbn}\n",
      "    \n",
      "class Chapter(Serializable):\n",
      "    #                 str  [Sub_Chapter] [Subject] \n",
      "    def __init__(self,name,subchapters,subjects):\n",
      "        self.name = name\n",
      "        self.subchapters = subchapters\n",
      "        self.subjects = subjects\n",
      "\n",
      "    def toJSONObj(self):\n",
      "        return {'name' : self.name, 'subchapters' : [x.toJSONObj() for x in self.subchapters], 'subjects': self.subjects}\n",
      "    \n",
      "    \n",
      "    \n",
      "    @classmethod\n",
      "    def fromJsonObj(cls,dictionary):\n",
      "        return cls(dictionary['name'],[SubChapter.fromJsonObj(obj) for obj in dictionary['subchapters']],dictionary['subjects'])\n",
      "\n",
      "class SubChapter(Serializable):\n",
      "    #                  str [Paragraph] [Subject]\n",
      "    def __init__(self,name,text,subjects):\n",
      "        self.name = name\n",
      "        self.text = text\n",
      "        self.subjects = subjects\n",
      "\n",
      "    @classmethod\n",
      "    def fromJsonObj(cls,dictionary):\n",
      "        return cls(dictionary['name'],dictionary['text'],dictionary['subjects'])\n",
      "\n",
      "    def toJSONObj(self):\n",
      "        return {'name' : self.name, 'text' : self.text, 'subjects': self.subjects}\n",
      "    \n",
      "   \n",
      "class Subject(object):\n",
      "    def __init__(self,text):\n",
      "        self.text = text\n",
      "\n",
      "    @classmethod\n",
      "    def fromJsonObj(cls,dictionary):\n",
      "        return cls(dictionary['text'])\n"
     ],
     "language": "python",
     "metadata": {},
     "outputs": [],
     "prompt_number": 265
    },
    {
     "cell_type": "heading",
     "level": 6,
     "metadata": {},
     "source": [
      "Data Creation"
     ]
    },
    {
     "cell_type": "code",
     "collapsed": false,
     "input": [
      "f = open(\"LinedMath.json\")\n",
      "book = Book('A First Book in Algebra',[],\"\",\"\")\n",
      "document = json.loads(f.read().encode('utf8'))\n",
      "chapter = None\n",
      "subchapter = None\n",
      "for page in document:\n",
      "    for line in page:\n",
      "        if line[u'font'] == 5: # chapter\n",
      "            chapter = Chapter(line[u'data'], [], [line[u'data']])\n",
      "            book.chapters.append(chapter)\n",
      "            subchapter = None\n",
      "\n",
      "        elif line[u'font'] == 3: # Subchapter\n",
      "            subchapter = SubChapter(line[u'data'], '', [line[u'data']])\n",
      "            if chapter is None:\n",
      "                chapter = Chapter('No Name Chapter', [], [])\n",
      "            chapter.subchapters.append(subchapter)\n",
      "            chapter.subjects.append(line[u'data'])\n",
      "        \n",
      "        elif subchapter is not None:\n",
      "            subchapter.text += u'\\n' + line[u'data']\n",
      "        \n",
      "        else:\n",
      "            subchapter = SubChapter(\"No Name\", line[u'data'], [])\n",
      "            if chapter is None:\n",
      "                chapter = Chapter('No Name Chapter', [], [])\n",
      "            chapter.subchapters.append(subchapter)\n",
      "\n",
      "fout = open(\"newMathOut.json\",'w')\n",
      "string = json.dumps(book.toJSONObj())\n",
      "fout.write(string)"
     ],
     "language": "python",
     "metadata": {},
     "outputs": [],
     "prompt_number": 266
    },
    {
     "cell_type": "raw",
     "metadata": {},
     "source": [
      "f = open('newMathOut.json')\n",
      "book = Book.fromJsonObj(json.loads(f.read()))\n",
      "# print book\n",
      "for chapter in book.chapters:\n",
      "#     print chapter\n",
      "    print type(chapter.subchapters)"
     ]
    },
    {
     "cell_type": "heading",
     "level": 6,
     "metadata": {},
     "source": [
      "Search Data (Functions)"
     ]
    },
    {
     "cell_type": "code",
     "collapsed": false,
     "input": [
      "def levenshtein(source, target):\n",
      "    if len(source) < len(target):\n",
      "        return levenshtein(target, source)\n",
      " \n",
      "    if len(target) == 0:\n",
      "        return len(source)\n",
      "    source = np.array(tuple(source))\n",
      "    target = np.array(tuple(target))\n",
      " \n",
      "    previous_row = np.arange(target.size + 1)\n",
      "    for s in source:\n",
      "        # Insertion \n",
      "        current_row = previous_row + (0.1)\n",
      " \n",
      "        # Substitution or matching:\n",
      "        current_row[1:] = np.minimum(current_row[1:],np.add(previous_row[:-1], (target != s) * (3)))\n",
      " \n",
      "        # Deletion \n",
      "        current_row[1:] = np.minimum(\n",
      "                current_row[1:],\n",
      "                current_row[0:-1] + (1))\n",
      "        previous_row = current_row\n",
      " \n",
      "    return previous_row[-1]\n",
      "levenshtein = np.vectorize(levenshtein)"
     ],
     "language": "python",
     "metadata": {},
     "outputs": [],
     "prompt_number": 267
    },
    {
     "cell_type": "code",
     "collapsed": false,
     "input": [
      "def minimumChapter(xs):\n",
      "    smallest = float(\"inf\")\n",
      "    smallestChapter = None\n",
      "    for (value, chapter) in xs:\n",
      "        if value < smallest:\n",
      "            smallest = value\n",
      "            smallestChapter = chapter\n",
      "    return smallestChapter"
     ],
     "language": "python",
     "metadata": {},
     "outputs": [],
     "prompt_number": 268
    },
    {
     "cell_type": "code",
     "collapsed": false,
     "input": [
      "numberOfTimesRan = 0\n",
      "filtered_words_global = []\n",
      "def bestChapter(input_string, chapters):\n",
      "    def countWordsInSubChapter(subchapter):\n",
      "        global numberOfTimesRan, filtered_words_global\n",
      "        numberOfTimesRan += 1\n",
      "        accum = 0\n",
      "        text = subchapter.text\n",
      "        words = text.split()\n",
      "        filtered_words = [w.lower() for w in words if not w.lower() in stopWords and not isInt(w) and w.isalpha() and len(w) > 2]\n",
      "        accum -= len([w for w in filtered_words if w == input_string])\n",
      "        filtered_words_global += filtered_words\n",
      "        for word in filtered_words:\n",
      "            comp = levenshteinDistance(input_string,word)\n",
      "            accum += float(comp) / len(words)\n",
      "        return accum\n",
      "    \n",
      "    countWordsInSubChapter = memoize(countWordsInSubChapter)\n",
      "    \n",
      "    def chapterPlusIndex(chapter):\n",
      "        index = levenshteinDistance(input_string, chapter.name)\n",
      "        if type(chapter) is SubChapter:\n",
      "            index += countWordsInSubChapter(chapter)\n",
      "            print '\\t', chapter.name, index\n",
      "        elif type(chapter) is Chapter:\n",
      "            accum = 0\n",
      "            for subchapter in chapter.subchapters:\n",
      "                accum += countWordsInSubChapter(subchapter)\n",
      "            accum = accum/len(chapter.subchapters)\n",
      "            index += accum\n",
      "            print chapter.name, index\n",
      "            \n",
      "        return (float(index), chapter)\n",
      "    xs = map(chapterPlusIndex, chapters)\n",
      "#     print map(lambda x: (x[0], x[1].name), xs)\n",
      "    return minimumChapter(xs)"
     ],
     "language": "python",
     "metadata": {},
     "outputs": [],
     "prompt_number": 269
    },
    {
     "cell_type": "code",
     "collapsed": false,
     "input": [
      "def memoize(f):\n",
      "    memory = dict()\n",
      "    def memoizedFunction(x):\n",
      "        if x in memory:\n",
      "            return memory[x]\n",
      "        else:\n",
      "            memory[x] = f(x)\n",
      "            return memory[x]\n",
      "    return memoizedFunction\n"
     ],
     "language": "python",
     "metadata": {},
     "outputs": [],
     "prompt_number": 270
    },
    {
     "cell_type": "code",
     "collapsed": false,
     "input": [
      "def getChapter(input_string):\n",
      "    return bestChapter(input_string, list(chain(*[c.subchapters for c in book.chapters])) + book.chapters)"
     ],
     "language": "python",
     "metadata": {},
     "outputs": [],
     "prompt_number": 271
    },
    {
     "cell_type": "code",
     "collapsed": false,
     "input": [
      "def levenshteinDistance(str1,str2):\n",
      "    str1, str2 = unicode(str1), unicode(str2)\n",
      "    return levenshtein(str1.lower().rstrip('.'),str2.lower().rstrip('.'))"
     ],
     "language": "python",
     "metadata": {},
     "outputs": [],
     "prompt_number": 272
    },
    {
     "cell_type": "code",
     "collapsed": false,
     "input": [
      "def isInt(string):\n",
      "    string = [x for x in string if x in '0123456789']\n",
      "    return len(string) > 0"
     ],
     "language": "python",
     "metadata": {},
     "outputs": [],
     "prompt_number": 273
    },
    {
     "cell_type": "heading",
     "level": 6,
     "metadata": {},
     "source": [
      "Search Data"
     ]
    },
    {
     "cell_type": "code",
     "collapsed": false,
     "input": [
      "stopwords = \"\"\"\n",
      "a about above after again agains all am an and any are aren't as at be because been before being below between both but by can't cannot could couldn't did didn't do does doesn't doing don't down during each few for from further had hadn't has hasn't have haven't having he he'd he'll he's her here here's hers herself him himself his how how's i i'd i'll i'm i've if in into is isn't it it's its itself let's me more most mustn't my myself no nor not of off on once only or other ought our ours ourselves out over own same shan't she she'd she'll she's should shouldn't so some such than that that's the their theirs them themselves then there there's these they they'd they'll they're they've this those through to too under until up very was wasn't we we'd we'll we're we've were weren't what what's when when's where where's which while who who's whom why why's with won't would wouldn't you you'd you'll you're you've your yours yourself yourselves first second twice third fourth - + \n",
      "one two three four five six seven eight nine ten john many times much will can miles years cent men hours exercise man must \n",
      "\"\"\"\n",
      "stopWords = stopwords.split()\n"
     ],
     "language": "python",
     "metadata": {},
     "outputs": [],
     "prompt_number": 274
    },
    {
     "cell_type": "code",
     "collapsed": false,
     "input": [
      "input_string = u'something'\n",
      "filtered_words_global = []\n",
      "chapter = getChapter(input_string)\n",
      "print chapter.name\n",
      "print \n",
      "print chapter.text"
     ],
     "language": "python",
     "metadata": {},
     "outputs": [
      {
       "output_type": "stream",
       "stream": "stdout",
       "text": [
        "\tNo Name 6.58364875095\n",
        "\t"
       ]
      },
      {
       "output_type": "stream",
       "stream": "stdout",
       "text": [
        "MODES OF REPRESENTING THE OPERATIONS. 6.04082926829\n",
        "\t"
       ]
      },
      {
       "output_type": "stream",
       "stream": "stdout",
       "text": [
        "ALGEBRAIC EXPRESSIONS. 8.96243654822\n",
        "\t"
       ]
      },
      {
       "output_type": "stream",
       "stream": "stdout",
       "text": [
        "ADDITION. 6.23803418803\n",
        "\t"
       ]
      },
      {
       "output_type": "stream",
       "stream": "stdout",
       "text": [
        "SUBTRACTION. 6.42483320979\n",
        "\t"
       ]
      },
      {
       "output_type": "stream",
       "stream": "stdout",
       "text": [
        "MULTIPLICATION. 6.56480706648\n",
        "\t"
       ]
      },
      {
       "output_type": "stream",
       "stream": "stdout",
       "text": [
        "DIVISION. 6.28496319664\n",
        "\t"
       ]
      },
      {
       "output_type": "stream",
       "stream": "stdout",
       "text": [
        "FACTORING. 6.00117173197\n",
        "\tGREATEST COMMON FACTOR. 8.53808290155\n",
        "\t"
       ]
      },
      {
       "output_type": "stream",
       "stream": "stdout",
       "text": [
        "LEAST COMMON MULTIPLE. 5.91073211314\n",
        "\tNo Name 7.81851851852\n",
        "\tREDUCTION OF FRACTIONS. 7.32263948498\n",
        "\t"
       ]
      },
      {
       "output_type": "stream",
       "stream": "stdout",
       "text": [
        "OPERATIONS UPON FRACTIONS. 6.43163008276\n",
        "\tCOMPLEX FRACTIONS. 4.63300835655\n",
        "\t"
       ]
      },
      {
       "output_type": "stream",
       "stream": "stdout",
       "text": [
        "No Name 6.49183186052\n",
        "\t"
       ]
      },
      {
       "output_type": "stream",
       "stream": "stdout",
       "text": [
        "SIMULTANEOUS EQUATIONS. 5.20138465799\n",
        "ALGEBRAIC NOTATION. 7.46230485582\n",
        "OPERATIONS. 5.15315941523\n",
        "FACTORS AND MULTIPLES. 7.18332891556\n",
        "FRACTIONS. 7.5014491107\n",
        "EQUATIONS 7.29660825926\n",
        "COMPLEX FRACTIONS.\n",
        "\n",
        "\n",
        "bba\n",
        "a + a + \n",
        "a\n",
        "ccx\n",
        "42 ILLUS.,,,\n",
        "xx\n",
        "b\n",
        "dd - d - \n",
        "yy\n",
        "c\n",
        "A complex fraction is one which has a fraction in one or both of its terms.\n",
        "What is a simple fraction? What is the effect of multiplying a simple fraction\n",
        "by its denominator or by any multiple of its denominator? By what must the\n",
        "ax\n",
        "a + \n",
        "b\n",
        "numerator of the complex fractionbe multiplied to make the numerator\n",
        "cx\n",
        "+ \n",
        "d ab\n",
        "an entire number? By what multiply the denominator to make it an entire num-\n",
        "ber? If both numerator and denominator are multiplied, under what conditions\n",
        "will the value of the fraction remain the same?\n",
        "ax\n",
        "a + \n",
        "b\n",
        "ILLUS. 1. Simplify.\n",
        "cx\n",
        "+ \n",
        "d ab\n",
        "ax\n",
        "a2bd + a2dx\n",
        "a + \u00d7 abd\n",
        "b =\n",
        "cx\n",
        "+ \u00d7 abd\n",
        "abc + dx\n",
        "d ab \n",
        "11\n",
        "- \n",
        "1-x 1+x\n",
        "ILLUS. 2. Simplify.\n",
        "11\n",
        "+ \n",
        "1-x 1+x\n",
        "11\n",
        "- \u00d7 (1 - x)(1 + x)1 + x - 1 + x2x\n",
        "1-x 1+x \n",
        "=== x\n",
        "11\n",
        "+ \u00d7 (1 - x)(1 + x)\n",
        "1 + x + 1 - x2\n",
        "1-x 1+x \n",
        "To simplify a complex fraction, multiply each term of the complex fraction\n",
        "by the L.C.M. of the denominators of the fractions in the terms, and reduce.\n",
        "Exercise 51.\n",
        "Simplify:\n",
        "a\n",
        "1 + \n",
        "b\n",
        "1..\n",
        "x\n",
        "- 1\n",
        "b \n",
        "a\n",
        "x + \n",
        "y\n",
        "2..\n",
        "b\n",
        "m - \n",
        "y\n",
        "x\n",
        "3..\n",
        "b\n",
        "a + \n",
        "c\n",
        "1\n",
        "x - \n",
        "x2\n",
        "4..\n",
        "1\n",
        "1 - \n",
        "x\n",
        "ab\n",
        "- \n",
        "b a\n",
        "5..\n",
        "a - b\n",
        "1 + m3\n",
        "6..\n",
        "1\n",
        "1 + \n",
        "m\n",
        "94\n",
        "xz\n",
        "- \n",
        "y x\n",
        "7..\n",
        "ab\n",
        "- \n",
        "y x\n",
        "ab\n",
        "- 3d\n",
        "c \n",
        "8..\n",
        "ab\n",
        "3c - \n",
        "d\n",
        "1\n",
        "1 + \n",
        "a-1\n",
        "9..\n",
        "1\n",
        "1 - \n",
        "a+1\n",
        "1+a+a2\n",
        "10. .\n",
        "11\n",
        "1+ + \n",
        "a \n",
        "a2\n",
        "2\n",
        "x - 3 - \n",
        "x-4\n",
        "11..\n",
        "2\n",
        "x - 1 + \n",
        "x-4\n",
        "aa\n",
        "+ \n",
        "a+b a-b\n",
        "12..\n",
        "2a\n",
        "a2-b2\n",
        "a+1a-1\n",
        "+ \n",
        "a-1 a+1\n",
        "13..\n",
        "a+1a-1\n",
        "- \n",
        "a-1 a+1\n",
        "a3+b3\n",
        "a2-b2\n",
        "14..\n",
        "a2-ab+b2\n",
        "a-b\n",
        "1\n",
        "15. 1 -.\n",
        "2\n",
        "1 + \n",
        "a-2\n",
        "a+2ba\n",
        "- \n",
        "ba+b\n",
        "16..\n",
        "a+2ba\n",
        "+ \n",
        "a+b b\n",
        "17. How many pounds of pepper can be bought for y dollars, if x pounds cost\n",
        "2x dimes?\n",
        "18. How many inches in y feet? How many yards?\n",
        "19. A man bought x pounds of beef at x cents a pound, and handed the\n",
        "butcher a y-dollar bill. How many cents change should he receive?\n",
        "20. x times I is how many times m?\n",
        "Exercise 52. (Review.)\n",
        "1. Divide x3 - 19x + 6x7 + 20 + 8x2 + 16x4 - x6 - 11x5 by x2 + 4 - 3x + 2x3.\n",
        "2. Find two numbers whose sum is 100 and whose difference is 10.\n",
        "3. Find the G.C.F. of x4 - 1, x5 + x4 - x3 - x2 + x + 1, and x2 - x - 2.\n",
        "4. Factor x10 - 14x5y + 49y2, a9 - b9, 3a2 - 3a - 216.\n",
        "95\n",
        "(2a + 2b)(a2 - b2)\n",
        "5. Reduceto lowest terms.\n",
        "(a2 + 2ab + b2)(a - b)\n",
        "16x4c4\n",
        "6. Factor-.\n",
        "a4b481y4\n",
        "7. If x and y stand for the digits of a number of two places, what will represent\n",
        "the number?\n",
        "8. Find the L.C.M. of a2 - 5a + 6, a2 - 16, a2 - 9, a2 - 7a + 12, and a2 - 4.\n",
        "9. If one picture costs a cents, how many can be bought for x dollars?\n",
        "Simplify:\n",
        "x - 32(1 - x)x - 1\n",
        "10.+-.\n",
        "x - 2x2 - 6x + 8x - 4\n",
        "121\n",
        "11.-+.\n",
        "(2 - x)(3 - x)(x - 1)(x - 3)(x - 1)(x - 2)\n",
        "x2 + xyx3 - 3x2y + 3xy2 - y32xy - 2y2\n",
        "12.\u00d7\u00f7.\n",
        "x - yx2 - y23\n",
        "11a + ba - b\n",
        "13.+(a + b) --.\n",
        "mnmn\n",
        "1\n",
        "x + \n",
        "1\n",
        "x\n",
        "14.x -\u00f7.\n",
        "21\n",
        "1 + + 1\n",
        "x-1x \n",
        "abbb3\n",
        "+ - 11 + 1 + \n",
        "b a aa3\n",
        "15.\u00d7\u00f7.\n",
        "a2aa2b2\n",
        "a - b\n",
        "+ + 1- \n",
        "b2 b b a\n",
        "16. Prove that 3(a + b)(a + c)(b + c) = (a + b + c)3 - (a3 + b3 + c3).\n",
        "17. How many sevenths in 6xy?\n",
        "x43\n",
        "18. Divide 2x5 -+ 2x3 - 2x2 - x by 3x2 + x.\n",
        "124\n",
        "96\n"
       ]
      }
     ],
     "prompt_number": 280
    },
    {
     "cell_type": "code",
     "collapsed": false,
     "input": [
      "numberOfTimesRan"
     ],
     "language": "python",
     "metadata": {},
     "outputs": []
    },
    {
     "cell_type": "code",
     "collapsed": false,
     "input": [
      "words = []\n",
      "for chapter in book.chapters:\n",
      "    for subchapter in chapter.subchapters:\n",
      "        splited = subchapter.text.split()\n",
      "        words += splited\n",
      "print words"
     ],
     "language": "python",
     "metadata": {},
     "outputs": []
    },
    {
     "cell_type": "code",
     "collapsed": false,
     "input": [
      "text = nltk.Text(list(chain(*map(nltk.word_tokenize,filtered_words_global))))"
     ],
     "language": "python",
     "metadata": {},
     "outputs": []
    },
    {
     "cell_type": "code",
     "collapsed": false,
     "input": [
      "# nltk.FreqDist(text).most_common(50) \n",
      "# len(text)\n",
      "text.count('fun')"
     ],
     "language": "python",
     "metadata": {},
     "outputs": []
    },
    {
     "cell_type": "heading",
     "level": 6,
     "metadata": {},
     "source": [
      "Test"
     ]
    },
    {
     "cell_type": "code",
     "collapsed": false,
     "input": [
      "book.chapters + list(chain(*[c.subchapters for c in book.chapters]))"
     ],
     "language": "python",
     "metadata": {},
     "outputs": []
    },
    {
     "cell_type": "code",
     "collapsed": false,
     "input": [
      "print levenshtein(\"ALGEBRAIC NOTATION.\".lower(), \"facor\".lower())"
     ],
     "language": "python",
     "metadata": {},
     "outputs": []
    },
    {
     "cell_type": "code",
     "collapsed": false,
     "input": [
      "stopWords"
     ],
     "language": "python",
     "metadata": {},
     "outputs": []
    },
    {
     "cell_type": "code",
     "collapsed": false,
     "input": [
      "unicode.isalpha(u'a')"
     ],
     "language": "python",
     "metadata": {},
     "outputs": []
    },
    {
     "cell_type": "code",
     "collapsed": false,
     "input": [],
     "language": "python",
     "metadata": {},
     "outputs": []
    }
   ],
   "metadata": {}
  }
 ]
}